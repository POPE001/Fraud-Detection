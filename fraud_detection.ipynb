{
  "cells": [
    {
      "cell_type": "markdown",
      "metadata": {
        "id": "view-in-github",
        "colab_type": "text"
      },
      "source": [
        "<a href=\"https://colab.research.google.com/github/POPE001/Fraud-Detection/blob/main/fraud_detection.ipynb\" target=\"_parent\"><img src=\"https://colab.research.google.com/assets/colab-badge.svg\" alt=\"Open In Colab\"/></a>"
      ]
    },
    {
      "cell_type": "code",
      "execution_count": null,
      "metadata": {
        "colab": {
          "background_save": true
        },
        "id": "rdwPG_Pdsj5t"
      },
      "outputs": [],
      "source": [
        "import pandas as pd\n",
        "import numpy as np\n",
        "import torch\n",
        "import torch.nn as nn\n",
        "import torch.optim as optim\n",
        "from torch.utils.data import Dataset, DataLoader\n",
        "import matplotlib.pyplot as plt\n",
        "from imblearn.over_sampling import RandomOverSampler\n",
        "from sklearn.preprocessing import StandardScaler\n",
        "from sklearn.metrics import accuracy_score, precision_score, recall_score, f1_score, roc_auc_score\n",
        "from imblearn.over_sampling import SMOTE\n"
      ]
    },
    {
      "cell_type": "code",
      "execution_count": null,
      "metadata": {
        "id": "V0UqEvemsn2z"
      },
      "outputs": [],
      "source": [
        "class FraudDetectionRNN(nn.Module):\n",
        "    def __init__(self, input_size, hidden_size, num_layers, num_classes):\n",
        "        super(FraudDetectionRNN, self).__init__()\n",
        "        self.hidden_size = hidden_size\n",
        "        self.num_layers = num_layers\n",
        "        self.lstm = nn.LSTM(input_size, hidden_size, num_layers, batch_first=True)\n",
        "        self.fc = nn.Linear(hidden_size, num_classes)\n",
        "\n",
        "    def forward(self, x):\n",
        "        h0 = torch.zeros(self.num_layers, x.size(0), self.hidden_size).to(device)\n",
        "        c0 = torch.zeros(self.num_layers, x.size(0), self.hidden_size).to(device)\n",
        "\n",
        "        out, _ = self.lstm(x, (h0, c0))\n",
        "        out = self.fc(out[:, -1, :])\n",
        "        return out"
      ]
    },
    {
      "cell_type": "code",
      "execution_count": null,
      "metadata": {
        "id": "Pje9itRQswje"
      },
      "outputs": [],
      "source": [
        "class FraudDataset(Dataset):\n",
        "    def __init__(self, data):\n",
        "        self.features = data[['step', 'amount', 'oldbalanceOrg', 'newbalanceOrig', 'oldbalanceDest', 'newbalanceDest']].values.astype(float)\n",
        "        self.labels = data['isFraud'].values.astype(float)\n",
        "\n",
        "        # Data scaling\n",
        "        scaler = StandardScaler()\n",
        "        self.features = scaler.fit_transform(self.features)\n",
        "\n",
        "        # Data oversampling\n",
        "        oversampler = RandomOverSampler(random_state=42)\n",
        "        self.features, self.labels = oversampler.fit_resample(self.features, self.labels)\n",
        "\n",
        "    def __len__(self):\n",
        "        return len(self.features)\n",
        "\n",
        "    def __getitem__(self, idx):\n",
        "        features = self.features[idx]\n",
        "        label = self.labels[idx]\n",
        "        return torch.tensor(features).unsqueeze(0), torch.tensor(label)  # Reshape features to add an additional dimension\n"
      ]
    },
    {
      "cell_type": "code",
      "execution_count": null,
      "metadata": {
        "colab": {
          "base_uri": "https://localhost:8080/"
        },
        "id": "ncIH59mTzH0p",
        "outputId": "beeb4cd5-78cd-45fc-9fa2-64c9864d0992"
      },
      "outputs": [
        {
          "name": "stdout",
          "output_type": "stream",
          "text": [
            "Mounted at /content/drive\n"
          ]
        }
      ],
      "source": [
        "from google.colab import drive\n",
        "import os\n",
        "\n",
        "# Mount Google Drive\n",
        "drive.mount('/content/drive')\n"
      ]
    },
    {
      "cell_type": "code",
      "execution_count": null,
      "metadata": {
        "colab": {
          "base_uri": "https://localhost:8080/"
        },
        "id": "3y1ZhQ9A0PKI",
        "outputId": "5d16d3b7-a65f-49d8-8b57-820c04f2bd2b"
      },
      "outputs": [
        {
          "data": {
            "text/plain": [
              "['.config', 'drive', 'crime_data', 'sample_data']"
            ]
          },
          "execution_count": 5,
          "metadata": {},
          "output_type": "execute_result"
        }
      ],
      "source": [
        "import os\n",
        "os.listdir('/content')\n"
      ]
    },
    {
      "cell_type": "code",
      "execution_count": null,
      "metadata": {
        "colab": {
          "background_save": true
        },
        "id": "fPjO8WWRsyWf"
      },
      "outputs": [],
      "source": [
        "# Load and preprocess the dataset\n",
        "df = pd.read_csv('/content/crime_data')"
      ]
    },
    {
      "cell_type": "code",
      "execution_count": null,
      "metadata": {
        "id": "crObBewZSZm3"
      },
      "outputs": [],
      "source": [
        "# Define the features and target variable\n",
        "X = df.drop([\"isFraud\"], axis=1)\n",
        "y = df[\"isFraud\"]"
      ]
    },
    {
      "cell_type": "code",
      "execution_count": null,
      "metadata": {
        "id": "t8aRAlXTs24j"
      },
      "outputs": [],
      "source": [
        "\n",
        "# Remove rows with missing values\n",
        "df.dropna(inplace=True)"
      ]
    },
    {
      "cell_type": "code",
      "execution_count": null,
      "metadata": {
        "colab": {
          "base_uri": "https://localhost:8080/"
        },
        "id": "gKC11OFVvitE",
        "outputId": "5629231f-0be7-4c46-e622-6a54e79f5b66"
      },
      "outputs": [
        {
          "name": "stdout",
          "output_type": "stream",
          "text": [
            "Missing values:\n",
            " step              0\n",
            "type              0\n",
            "amount            0\n",
            "nameOrig          0\n",
            "oldbalanceOrg     0\n",
            "newbalanceOrig    0\n",
            "nameDest          0\n",
            "oldbalanceDest    0\n",
            "newbalanceDest    0\n",
            "isFraud           0\n",
            "isFlaggedFraud    0\n",
            "dtype: int64\n"
          ]
        }
      ],
      "source": [
        "# Check for missing values\n",
        "missing_values = df.isnull().sum()\n",
        "print(\"Missing values:\\n\", missing_values)"
      ]
    },
    {
      "cell_type": "code",
      "execution_count": null,
      "metadata": {
        "colab": {
          "base_uri": "https://localhost:8080/"
        },
        "id": "cznrVy4_vofX",
        "outputId": "dd211629-a697-4738-a109-48cbe3168f0a"
      },
      "outputs": [
        {
          "name": "stdout",
          "output_type": "stream",
          "text": [
            "Duplicates: 0\n"
          ]
        }
      ],
      "source": [
        "# Check for duplicates\n",
        "duplicates = df.duplicated().sum()\n",
        "print(\"Duplicates:\", duplicates)"
      ]
    },
    {
      "cell_type": "code",
      "execution_count": null,
      "metadata": {
        "id": "b3ta22Tmt4-S"
      },
      "outputs": [],
      "source": [
        "# Removing duplicates\n",
        "df.drop_duplicates(inplace=True)"
      ]
    },
    {
      "cell_type": "code",
      "execution_count": null,
      "metadata": {
        "colab": {
          "base_uri": "https://localhost:8080/"
        },
        "id": "p2STuQ_5t9DT",
        "outputId": "a59bcfea-b38d-4d48-82cb-ba9477f17630"
      },
      "outputs": [
        {
          "name": "stdout",
          "output_type": "stream",
          "text": [
            "Number of rows: 821056\n",
            "Number of columns: 11\n"
          ]
        }
      ],
      "source": [
        "# Check the number of rows and columns\n",
        "num_rows, num_columns = df.shape\n",
        "print(\"Number of rows:\", num_rows)\n",
        "print(\"Number of columns:\", num_columns)"
      ]
    },
    {
      "cell_type": "code",
      "execution_count": null,
      "metadata": {
        "id": "x0YhHTbeuDKj"
      },
      "outputs": [],
      "source": [
        "# Save the cleaned dataset\n",
        "df.to_csv('cleaned_fraud_dataset.csv', index=False)"
      ]
    },
    {
      "cell_type": "code",
      "execution_count": null,
      "metadata": {
        "id": "q4kltXBSxIxT"
      },
      "outputs": [],
      "source": [
        "# Load the cleaned dataset\n",
        "\n"
      ]
    },
    {
      "cell_type": "code",
      "execution_count": null,
      "metadata": {
        "id": "4VjxfEVi3Y4W"
      },
      "outputs": [],
      "source": [
        "dataset = FraudDataset(df)\n"
      ]
    },
    {
      "cell_type": "code",
      "execution_count": null,
      "metadata": {
        "id": "zDgBOvsFSwmY"
      },
      "outputs": [],
      "source": [
        "# Split the dataset into train and test sets\n",
        "from sklearn.model_selection import train_test_split\n",
        "X_train, X_test, y_train, y_test = train_test_split(X, y, test_size=0.2, random_state=42)"
      ]
    },
    {
      "cell_type": "code",
      "execution_count": null,
      "metadata": {
        "id": "7eIKxOLBxXHo"
      },
      "outputs": [],
      "source": [
        "# Split the dataset into training, validation, and test sets\n",
        "train_size = int(0.7 * len(dataset))\n",
        "val_size = int(0.15 * len(dataset))\n",
        "test_size = len(dataset) - train_size - val_size\n",
        "train_dataset, val_dataset, test_dataset = torch.utils.data.random_split(dataset, [train_size, val_size, test_size])\n"
      ]
    },
    {
      "cell_type": "code",
      "execution_count": null,
      "metadata": {
        "id": "PMhs5TC-xesF"
      },
      "outputs": [],
      "source": [
        "# Set batch size and create the data loaders\n",
        "batch_size = 32\n",
        "train_loader = torch.utils.data.DataLoader(train_dataset, batch_size=batch_size, shuffle=True)\n"
      ]
    },
    {
      "cell_type": "code",
      "execution_count": null,
      "metadata": {
        "id": "3KJwk0ICAe0G"
      },
      "outputs": [],
      "source": [
        "# Create the model and optimizer\n",
        "input_size = 10\n",
        "hidden_size = 64\n",
        "num_layers = 2\n",
        "num_classes = 2"
      ]
    },
    {
      "cell_type": "code",
      "execution_count": null,
      "metadata": {
        "id": "uGrzaBT-xlnZ"
      },
      "outputs": [],
      "source": [
        "# Create the model and optimizer\n",
        "model = FraudDetectionRNN(input_size, hidden_size, num_layers, num_classes)\n",
        "device = torch.device('cuda' if torch.cuda.is_available() else 'cpu')\n",
        "model.to(device)\n",
        "optimizer = torch.optim.Adam(model.parameters(), lr=0.001)\n",
        "criterion = nn.BCEWithLogitsLoss()"
      ]
    },
    {
      "cell_type": "code",
      "execution_count": null,
      "metadata": {
        "id": "29EV5cTtXUv6"
      },
      "outputs": [],
      "source": [
        "# Test data loader\n",
        "test_loader = torch.utils.data.DataLoader(test_dataset, batch_size=batch_size, shuffle=False)\n"
      ]
    },
    {
      "cell_type": "code",
      "execution_count": null,
      "metadata": {
        "id": "lJyZvK0riYfO"
      },
      "outputs": [],
      "source": [
        "# Validation data loader\n",
        "val_loader = torch.utils.data.DataLoader(val_dataset, batch_size=batch_size, shuffle=False)"
      ]
    },
    {
      "cell_type": "code",
      "execution_count": null,
      "metadata": {
        "colab": {
          "base_uri": "https://localhost:8080/"
        },
        "id": "BcUEApTmxpRc",
        "outputId": "6d96a634-8e43-4347-a5e9-1e36b0fa3738"
      },
      "outputs": [
        {
          "name": "stdout",
          "output_type": "stream",
          "text": [
            "Epoch [1/10], Train Loss: 0.1127, Val Loss: 0.1074\n",
            "Val Accuracy: 0.9466, Val Precision: 0.9700, Val Recall: 0.9216, Val F1-Score: 0.9452, Val ROC-AUC: 0.9466\n",
            "Epoch [2/10], Train Loss: 0.1102, Val Loss: 0.0990\n",
            "Val Accuracy: 0.9615, Val Precision: 0.9618, Val Recall: 0.9611, Val F1-Score: 0.9614, Val ROC-AUC: 0.9615\n",
            "Epoch [3/10], Train Loss: 0.1079, Val Loss: 0.1020\n",
            "Val Accuracy: 0.9621, Val Precision: 0.9398, Val Recall: 0.9873, Val F1-Score: 0.9630, Val ROC-AUC: 0.9621\n",
            "Epoch [4/10], Train Loss: 0.1056, Val Loss: 0.1008\n",
            "Val Accuracy: 0.9615, Val Precision: 0.9498, Val Recall: 0.9745, Val F1-Score: 0.9620, Val ROC-AUC: 0.9615\n",
            "Epoch [5/10], Train Loss: 0.1034, Val Loss: 0.0924\n",
            "Val Accuracy: 0.9660, Val Precision: 0.9588, Val Recall: 0.9737, Val F1-Score: 0.9662, Val ROC-AUC: 0.9660\n",
            "Epoch [6/10], Train Loss: 0.1015, Val Loss: 0.1010\n",
            "Val Accuracy: 0.9644, Val Precision: 0.9387, Val Recall: 0.9935, Val F1-Score: 0.9654, Val ROC-AUC: 0.9644\n",
            "Epoch [7/10], Train Loss: 0.0994, Val Loss: 0.0911\n",
            "Val Accuracy: 0.9697, Val Precision: 0.9599, Val Recall: 0.9804, Val F1-Score: 0.9700, Val ROC-AUC: 0.9698\n",
            "Epoch [8/10], Train Loss: 0.0978, Val Loss: 0.0959\n",
            "Val Accuracy: 0.9500, Val Precision: 0.9775, Val Recall: 0.9211, Val F1-Score: 0.9484, Val ROC-AUC: 0.9499\n",
            "Epoch [9/10], Train Loss: 0.0965, Val Loss: 0.0862\n",
            "Val Accuracy: 0.9690, Val Precision: 0.9705, Val Recall: 0.9674, Val F1-Score: 0.9690, Val ROC-AUC: 0.9690\n",
            "Epoch [10/10], Train Loss: 0.0947, Val Loss: 0.1286\n",
            "Val Accuracy: 0.9377, Val Precision: 0.9860, Val Recall: 0.8878, Val F1-Score: 0.9344, Val ROC-AUC: 0.9376\n"
          ]
        }
      ],
      "source": [
        "train_losses = []\n",
        "val_losses = []\n",
        "num_epochs = 10\n",
        "best_val_f1 = 0.0\n",
        "best_model_state = None  # Initialize the best model state\n",
        "\n",
        "for epoch in range(num_epochs):\n",
        "    train_loss = 0.0\n",
        "    val_loss = 0.0\n",
        "    val_preds = []\n",
        "    val_labels = []\n",
        "\n",
        "    # Training\n",
        "    model.train()\n",
        "    for batch_features, batch_labels in train_loader:\n",
        "        optimizer.zero_grad()\n",
        "        batch_features = batch_features.to(device, dtype=torch.float32)\n",
        "        batch_labels = batch_labels.to(device, dtype=torch.float32)[:, None]\n",
        "        outputs = model(batch_features)\n",
        "        loss = criterion(outputs, batch_labels)\n",
        "        loss.backward()\n",
        "        optimizer.step()\n",
        "        train_loss += loss.item() * batch_features.size(0)\n",
        "\n",
        "    # Validation\n",
        "    model.eval()\n",
        "    with torch.no_grad():\n",
        "        for batch_features, batch_labels in val_loader:\n",
        "            batch_features = batch_features.to(device, dtype=torch.float32)\n",
        "            batch_labels = batch_labels.to(device, dtype=torch.float32)[:, None]\n",
        "            outputs = model(batch_features)\n",
        "            loss = criterion(outputs, batch_labels)\n",
        "            val_loss += loss.item() * batch_features.size(0)\n",
        "            val_preds.extend(torch.sigmoid(outputs).cpu().detach().numpy())\n",
        "            val_labels.extend(batch_labels.cpu().detach().numpy())\n",
        "\n",
        "    # Calculate metrics\n",
        "    train_loss /= len(train_dataset)\n",
        "    val_loss /= len(val_dataset)\n",
        "    val_preds = np.array(val_preds)\n",
        "    val_labels = np.array(val_labels)\n",
        "    val_preds = np.where(val_preds >= 0.5, 1, 0)  # Apply threshold of 0.5 for classification\n",
        "\n",
        "    val_accuracy = accuracy_score(val_labels, val_preds)\n",
        "    val_precision = precision_score(val_labels, val_preds)\n",
        "    val_recall = recall_score(val_labels, val_preds)\n",
        "    val_f1 = f1_score(val_labels, val_preds)\n",
        "    val_roc_auc = roc_auc_score(val_labels, val_preds)\n",
        "\n",
        "    # Append losses to the lists\n",
        "    train_losses.append(train_loss)\n",
        "    val_losses.append(val_loss)\n",
        "\n",
        "    # Print epoch statistics\n",
        "    print(f'Epoch [{epoch+1}/{num_epochs}], Train Loss: {train_loss:.4f}, Val Loss: {val_loss:.4f}')\n",
        "    print(f'Val Accuracy: {val_accuracy:.4f}, Val Precision: {val_precision:.4f}, Val Recall: {val_recall:.4f}, Val F1-Score: {val_f1:.4f}, Val ROC-AUC: {val_roc_auc:.4f}')\n",
        "\n",
        "    if val_f1 > best_val_f1:\n",
        "        best_val_f1 = val_f1\n",
        "        best_model_state = model.state_dict()"
      ]
    },
    {
      "cell_type": "code",
      "execution_count": null,
      "metadata": {
        "id": "VrgN7ZJBGHYm"
      },
      "outputs": [],
      "source": [
        "X_test = X_test.drop('nameDest', axis=1)\n"
      ]
    },
    {
      "cell_type": "code",
      "execution_count": null,
      "metadata": {
        "id": "R2ouW-yMZEdx"
      },
      "outputs": [],
      "source": [
        "X_train = X_train.drop('nameOrig', axis=1)"
      ]
    },
    {
      "cell_type": "code",
      "execution_count": null,
      "metadata": {
        "id": "zBoHxLGWFzpw"
      },
      "outputs": [],
      "source": [
        "scaler = StandardScaler()\n",
        "X_test_scaled = scaler.fit_transform(X_test)"
      ]
    },
    {
      "cell_type": "code",
      "execution_count": null,
      "metadata": {
        "id": "u7oaVOqRHjfq"
      },
      "outputs": [],
      "source": [
        "# Scale the test features using the previously fitted scaler\n",
        "X_test_scaled = scaler.transform(X_test)\n"
      ]
    },
    {
      "cell_type": "code",
      "execution_count": null,
      "metadata": {
        "id": "MkGoJ9CeF5XE"
      },
      "outputs": [],
      "source": [
        "batch_size = 32\n",
        "test_loader = torch.utils.data.DataLoader(test_dataset, batch_size=batch_size, shuffle=False)\n"
      ]
    },
    {
      "cell_type": "code",
      "execution_count": null,
      "metadata": {
        "colab": {
          "base_uri": "https://localhost:8080/"
        },
        "id": "Y3RidvlBXk0S",
        "outputId": "6ddae22e-f517-4336-f6fb-e2f5a19d0653"
      },
      "outputs": [
        {
          "name": "stdout",
          "output_type": "stream",
          "text": [
            "Test Accuracy: 0.9518\n",
            "Test Precision: 0.9692\n",
            "Test F1-Score: 0.9510\n",
            "Test ROC AUC: 0.9518\n"
          ]
        }
      ],
      "source": [
        "from sklearn.metrics import accuracy_score, precision_score, f1_score, roc_auc_score\n",
        "\n",
        "# Evaluate the best model on the test set\n",
        "model.load_state_dict(best_model_state)\n",
        "model.eval()\n",
        "test_predictions = []\n",
        "test_targets = []\n",
        "\n",
        "with torch.no_grad():\n",
        "    for batch_features, batch_labels in test_loader:\n",
        "        batch_features = batch_features.to(device).float()\n",
        "        batch_labels = batch_labels.float().view(-1, 1).to(device)\n",
        "\n",
        "        outputs = model(batch_features)\n",
        "        predictions = torch.round(torch.sigmoid(outputs)).cpu().numpy().flatten()\n",
        "        targets = batch_labels.cpu().numpy().flatten()\n",
        "\n",
        "        test_predictions.extend(predictions)\n",
        "        test_targets.extend(targets)\n",
        "\n",
        "test_predictions = np.array(test_predictions)\n",
        "test_targets = np.array(test_targets)\n",
        "\n",
        "test_accuracy = accuracy_score(test_targets, test_predictions)\n",
        "test_precision = precision_score(test_targets, test_predictions)\n",
        "test_f1 = f1_score(test_targets, test_predictions)\n",
        "test_roc_auc = roc_auc_score(test_targets, test_predictions)\n",
        "\n",
        "print(f'Test Accuracy: {test_accuracy:.4f}')\n",
        "print(f'Test Precision: {test_precision:.4f}')\n",
        "print(f'Test F1-Score: {test_f1:.4f}')\n",
        "print(f'Test ROC AUC: {test_roc_auc:.4f}')\n"
      ]
    },
    {
      "cell_type": "code",
      "execution_count": null,
      "metadata": {
        "colab": {
          "base_uri": "https://localhost:8080/",
          "height": 449
        },
        "id": "sD60gQHpxxiM",
        "outputId": "db4ead73-8ff2-4f91-c068-8f04de086007"
      },
      "outputs": [
        {
          "data": {
            "image/png": "[encoded data removed]",
            "text/plain": [
              "<Figure size 640x480 with 1 Axes>"
            ]
          },
          "metadata": {},
          "output_type": "display_data"
        }
      ],
      "source": [
        "# Plot the training and validation losses\n",
        "plt.plot(range(1, num_epochs + 1), train_losses, label='Train Loss')\n",
        "plt.plot(range(1, num_epochs + 1), val_losses, label='Val Loss')\n",
        "plt.xlabel('Epoch')\n",
        "plt.ylabel('Loss')\n",
        "plt.legend()\n",
        "plt.show()\n"
      ]
    },
    {
      "cell_type": "code",
      "execution_count": null,
      "metadata": {
        "colab": {
          "base_uri": "https://localhost:8080/",
          "height": 564
        },
        "id": "P9xTGJ5Wxxqo",
        "outputId": "85632f36-d8fa-49ba-872d-018b19f5ab44"
      },
      "outputs": [
        {
          "data": {
            "image/png": "[encoded data removed]",
            "text/plain": [
              "<Figure size 800x600 with 2 Axes>"
            ]
          },
          "metadata": {},
          "output_type": "display_data"
        }
      ],
      "source": [
        "from sklearn.metrics import confusion_matrix\n",
        "import seaborn as sns\n",
        "\n",
        "# Calculate confusion matrix\n",
        "conf_mat = confusion_matrix(val_labels, val_preds)\n",
        "\n",
        "# Plot confusion matrix\n",
        "plt.figure(figsize=(8, 6))\n",
        "sns.heatmap(conf_mat, annot=True, fmt='d', cmap='Blues')\n",
        "plt.xlabel('Predicted Label')\n",
        "plt.ylabel('True Label')\n",
        "plt.title('Confusion Matrix')\n",
        "plt.show()\n"
      ]
    },
    {
      "cell_type": "code",
      "execution_count": null,
      "metadata": {
        "id": "1uQxkKasXx3k"
      },
      "outputs": [],
      "source": [
        "from sklearn.linear_model import LogisticRegression\n",
        "from sklearn.ensemble import RandomForestClassifier\n",
        "from sklearn.metrics import accuracy_score, precision_score, recall_score, f1_score, roc_auc_score"
      ]
    },
    {
      "cell_type": "code",
      "execution_count": null,
      "metadata": {
        "id": "rknClUXDZsGI"
      },
      "outputs": [],
      "source": [
        "# Remove rows with missing values\n",
        "X_train = X_train.dropna()\n",
        "y_train = y_train[X_train.index]  # Update the target variable accordingly"
      ]
    },
    {
      "cell_type": "code",
      "execution_count": null,
      "metadata": {
        "colab": {
          "base_uri": "https://localhost:8080/",
          "height": 75
        },
        "id": "pvu064peZvqn",
        "outputId": "e7ddd6e9-b080-4cff-a5db-be942c0a1942"
      },
      "outputs": [
        {
          "data": {
            "text/html": [
              "<style>#sk-container-id-1 {color: black;background-color: white;}#sk-container-id-1 pre{padding: 0;}#sk-container-id-1 div.sk-toggleable {background-color: white;}#sk-container-id-1 label.sk-toggleable__label {cursor: pointer;display: block;width: 100%;margin-bottom: 0;padding: 0.3em;box-sizing: border-box;text-align: center;}#sk-container-id-1 label.sk-toggleable__label-arrow:before {content: \"▸\";float: left;margin-right: 0.25em;color: #696969;}#sk-container-id-1 label.sk-toggleable__label-arrow:hover:before {color: black;}#sk-container-id-1 div.sk-estimator:hover label.sk-toggleable__label-arrow:before {color: black;}#sk-container-id-1 div.sk-toggleable__content {max-height: 0;max-width: 0;overflow: hidden;text-align: left;background-color: #f0f8ff;}#sk-container-id-1 div.sk-toggleable__content pre {margin: 0.2em;color: black;border-radius: 0.25em;background-color: #f0f8ff;}#sk-container-id-1 input.sk-toggleable__control:checked~div.sk-toggleable__content {max-height: 200px;max-width: 100%;overflow: auto;}#sk-container-id-1 input.sk-toggleable__control:checked~label.sk-toggleable__label-arrow:before {content: \"▾\";}#sk-container-id-1 div.sk-estimator input.sk-toggleable__control:checked~label.sk-toggleable__label {background-color: #d4ebff;}#sk-container-id-1 div.sk-label input.sk-toggleable__control:checked~label.sk-toggleable__label {background-color: #d4ebff;}#sk-container-id-1 input.sk-hidden--visually {border: 0;clip: rect(1px 1px 1px 1px);clip: rect(1px, 1px, 1px, 1px);height: 1px;margin: -1px;overflow: hidden;padding: 0;position: absolute;width: 1px;}#sk-container-id-1 div.sk-estimator {font-family: monospace;background-color: #f0f8ff;border: 1px dotted black;border-radius: 0.25em;box-sizing: border-box;margin-bottom: 0.5em;}#sk-container-id-1 div.sk-estimator:hover {background-color: #d4ebff;}#sk-container-id-1 div.sk-parallel-item::after {content: \"\";width: 100%;border-bottom: 1px solid gray;flex-grow: 1;}#sk-container-id-1 div.sk-label:hover label.sk-toggleable__label {background-color: #d4ebff;}#sk-container-id-1 div.sk-serial::before {content: \"\";position: absolute;border-left: 1px solid gray;box-sizing: border-box;top: 0;bottom: 0;left: 50%;z-index: 0;}#sk-container-id-1 div.sk-serial {display: flex;flex-direction: column;align-items: center;background-color: white;padding-right: 0.2em;padding-left: 0.2em;position: relative;}#sk-container-id-1 div.sk-item {position: relative;z-index: 1;}#sk-container-id-1 div.sk-parallel {display: flex;align-items: stretch;justify-content: center;background-color: white;position: relative;}#sk-container-id-1 div.sk-item::before, #sk-container-id-1 div.sk-parallel-item::before {content: \"\";position: absolute;border-left: 1px solid gray;box-sizing: border-box;top: 0;bottom: 0;left: 50%;z-index: -1;}#sk-container-id-1 div.sk-parallel-item {display: flex;flex-direction: column;z-index: 1;position: relative;background-color: white;}#sk-container-id-1 div.sk-parallel-item:first-child::after {align-self: flex-end;width: 50%;}#sk-container-id-1 div.sk-parallel-item:last-child::after {align-self: flex-start;width: 50%;}#sk-container-id-1 div.sk-parallel-item:only-child::after {width: 0;}#sk-container-id-1 div.sk-dashed-wrapped {border: 1px dashed gray;margin: 0 0.4em 0.5em 0.4em;box-sizing: border-box;padding-bottom: 0.4em;background-color: white;}#sk-container-id-1 div.sk-label label {font-family: monospace;font-weight: bold;display: inline-block;line-height: 1.2em;}#sk-container-id-1 div.sk-label-container {text-align: center;}#sk-container-id-1 div.sk-container {/* jupyter's `normalize.less` sets `[hidden] { display: none; }` but bootstrap.min.css set `[hidden] { display: none !important; }` so we also need the `!important` here to be able to override the default hidden behavior on the sphinx rendered scikit-learn.org. See: https://github.com/scikit-learn/scikit-learn/issues/21755 */display: inline-block !important;position: relative;}#sk-container-id-1 div.sk-text-repr-fallback {display: none;}</style><div id=\"sk-container-id-1\" class=\"sk-top-container\"><div class=\"sk-text-repr-fallback\"><pre>LogisticRegression()</pre><b>In a Jupyter environment, please rerun this cell to show the HTML representation or trust the notebook. <br />On GitHub, the HTML representation is unable to render, please try loading this page with nbviewer.org.</b></div><div class=\"sk-container\" hidden><div class=\"sk-item\"><div class=\"sk-estimator sk-toggleable\"><input class=\"sk-toggleable__control sk-hidden--visually\" id=\"sk-estimator-id-1\" type=\"checkbox\" checked><label for=\"sk-estimator-id-1\" class=\"sk-toggleable__label sk-toggleable__label-arrow\">LogisticRegression</label><div class=\"sk-toggleable__content\"><pre>LogisticRegression()</pre></div></div></div></div></div>"
            ],
            "text/plain": [
              "LogisticRegression()"
            ]
          },
          "execution_count": 121,
          "metadata": {},
          "output_type": "execute_result"
        }
      ],
      "source": [
        "from sklearn.impute import SimpleImputer\n",
        "\n",
        "# Create an imputer with the desired strategy\n",
        "imputer = SimpleImputer(strategy='mean')\n",
        "\n",
        "# Fit and transform the training data\n",
        "X_train_imputed = imputer.fit_transform(X_train)\n",
        "\n",
        "# Continue with training the LogisticRegression model using the imputed data\n",
        "logistic_regression.fit(X_train_imputed, y_train)\n"
      ]
    },
    {
      "cell_type": "code",
      "execution_count": null,
      "metadata": {
        "id": "JkU4cBhWX7o2"
      },
      "outputs": [],
      "source": [
        "# Train benchmark models\n",
        "logistic_regression = LogisticRegression()\n",
        "random_forest = RandomForestClassifier()\n",
        "\n",
        "logistic_regression.fit(X_train, y_train)\n",
        "random_forest.fit(X_train, y_train)\n",
        "\n",
        "# Predict using benchmark models\n",
        "logistic_regression_preds = logistic_regression.predict(X_test)\n",
        "random_forest_preds = random_forest.predict(X_test)\n",
        "\n",
        "# Evaluate benchmark models\n",
        "logistic_regression_accuracy = accuracy_score(y_test, logistic_regression_preds)\n",
        "random_forest_accuracy = accuracy_score(y_test, random_forest_preds)\n",
        "\n",
        "logistic_regression_precision = precision_score(y_test, logistic_regression_preds)\n",
        "random_forest_precision = precision_score(y_test, random_forest_preds)\n",
        "\n",
        "logistic_regression_recall = recall_score(y_test, logistic_regression_preds)\n",
        "random_forest_recall = recall_score(y_test, random_forest_preds)\n",
        "\n",
        "logistic_regression_f1_score = f1_score(y_test, logistic_regression_preds)\n",
        "random_forest_f1_score = f1_score(y_test, random_forest_preds)\n",
        "\n",
        "logistic_regression_roc_auc = roc_auc_score(y_test, logistic_regression_preds)\n",
        "random_forest_roc_auc = roc_auc_score(y_test, random_forest_preds)\n"
      ]
    },
    {
      "cell_type": "code",
      "execution_count": null,
      "metadata": {
        "colab": {
          "base_uri": "https://localhost:8080/"
        },
        "id": "xU5J2f_ZZ3JM",
        "outputId": "b0635926-a600-43a5-c43c-9acfd3ccb7f6"
      },
      "outputs": [
        {
          "name": "stdout",
          "output_type": "stream",
          "text": [
            "Benchmark Model Performance:\n",
            "Logistic Regression:\n",
            "Accuracy: 0.9965\n",
            "Precision: 0.4000\n",
            "Recall: 0.1053\n",
            "F1-Score: 0.1667\n",
            "ROC AUC: 0.5524\n"
          ]
        }
      ],
      "source": [
        "# Print the evaluation results\n",
        "print(\"Benchmark Model Performance:\")\n",
        "print(\"Logistic Regression:\")\n",
        "print(f\"Accuracy: {logistic_regression_accuracy:.4f}\")\n",
        "print(f\"Precision: {logistic_regression_precision:.4f}\")\n",
        "print(f\"Recall: {logistic_regression_recall:.4f}\")\n",
        "print(f\"F1-Score: {logistic_regression_f1_score:.4f}\")\n",
        "print(f\"ROC AUC: {logistic_regression_roc_auc:.4f}\")"
      ]
    },
    {
      "cell_type": "code",
      "execution_count": null,
      "metadata": {
        "colab": {
          "base_uri": "https://localhost:8080/"
        },
        "id": "4e4DLbyAaEDw",
        "outputId": "b459440a-4e6c-4006-92c4-ba965f39557d"
      },
      "outputs": [
        {
          "name": "stdout",
          "output_type": "stream",
          "text": [
            "Random Forest:\n",
            "Accuracy: 0.9977\n",
            "Precision: 1.0000\n",
            "Recall: 0.3158\n",
            "F1-Score: 0.4800\n",
            "ROC AUC: 0.6579\n"
          ]
        }
      ],
      "source": [
        "print(\"Random Forest:\")\n",
        "print(f\"Accuracy: {random_forest_accuracy:.4f}\")\n",
        "print(f\"Precision: {random_forest_precision:.4f}\")\n",
        "print(f\"Recall: {random_forest_recall:.4f}\")\n",
        "print(f\"F1-Score: {random_forest_f1_score:.4f}\")\n",
        "print(f\"ROC AUC: {random_forest_roc_auc:.4f}\")"
      ]
    },
    {
      "cell_type": "code",
      "execution_count": null,
      "metadata": {
        "id": "bkehVV9FhP9t"
      },
      "outputs": [],
      "source": [
        "input_size = 5  # Number of features in your data\n",
        "hidden_size = 32\n",
        "num_layers = 2\n"
      ]
    },
    {
      "cell_type": "code",
      "execution_count": null,
      "metadata": {
        "id": "_qf14hNriJGB"
      },
      "outputs": [],
      "source": [
        "X_train = X_train[:, :5]\n",
        "X_test = X_test[:, :5]\n"
      ]
    },
    {
      "cell_type": "code",
      "execution_count": null,
      "metadata": {
        "id": "L_p4i8s1ayPm"
      },
      "outputs": [],
      "source": [
        "import tensorflow as tf\n",
        "from keras.models import Sequential\n",
        "\n",
        "# Create the MLP model with the modified input shape\n",
        "mlp_model = Sequential()\n",
        "mlp_model.add(Dense(16, activation='relu', input_shape=(5,)))\n",
        "mlp_model.add(Dense(8, activation='relu'))\n",
        "mlp_model.add(Dense(1, activation='sigmoid'))\n",
        "\n"
      ]
    },
    {
      "cell_type": "code",
      "execution_count": null,
      "metadata": {
        "id": "8ehwPQaVa-WZ"
      },
      "outputs": [],
      "source": [
        "# Define the CNN model\n",
        "cnn_model = tf.keras.models.Sequential([\n",
        "    tf.keras.layers.Reshape((X_train.shape[1], 1), input_shape=(X_train.shape[1],)),\n",
        "    tf.keras.layers.Conv1D(32, 3, activation='relu'),\n",
        "    tf.keras.layers.MaxPooling1D(2),\n",
        "    tf.keras.layers.Flatten(),\n",
        "    tf.keras.layers.Dense(64, activation='relu'),\n",
        "    tf.keras.layers.Dense(1, activation='sigmoid')\n",
        "])"
      ]
    },
    {
      "cell_type": "code",
      "execution_count": null,
      "metadata": {
        "id": "azfRoU5idbG_"
      },
      "outputs": [],
      "source": [
        "# Convert the input data to NumPy arrays\n",
        "X_train = X_train.values\n",
        "X_test = X_test.values\n",
        "y_train = y_train.values\n",
        "y_test = y_test.values"
      ]
    },
    {
      "cell_type": "code",
      "execution_count": null,
      "metadata": {
        "id": "1FQxTrTxgmnk"
      },
      "outputs": [],
      "source": [
        "column_index = 3\n"
      ]
    },
    {
      "cell_type": "code",
      "execution_count": null,
      "metadata": {
        "id": "7CaBrbPTgUjv"
      },
      "outputs": [],
      "source": [
        "X_train = np.delete(X_train, column_index, axis=1)"
      ]
    },
    {
      "cell_type": "code",
      "execution_count": null,
      "metadata": {
        "id": "CsF_I8JPcKxJ"
      },
      "outputs": [],
      "source": [
        "X_train = X_train.astype(np.float32)\n",
        "y_train = y_train.astype(np.float32)"
      ]
    },
    {
      "cell_type": "code",
      "execution_count": null,
      "metadata": {
        "id": "FTW-JZLabQ4S"
      },
      "outputs": [],
      "source": [
        "# Define the RNN model\n",
        "\n",
        "rnn_model = tf.keras.models.Sequential([\n",
        "    tf.keras.layers.Embedding(input_dim=100, output_dim=16, input_length=X_train.shape[1]),\n",
        "    tf.keras.layers.SimpleRNN(64),\n",
        "    tf.keras.layers.Dense(1, activation='sigmoid')\n",
        "])"
      ]
    },
    {
      "cell_type": "code",
      "execution_count": null,
      "metadata": {
        "id": "rtaOUeoybXoK"
      },
      "outputs": [],
      "source": [
        "# Define the LSTM model\n",
        "lstm_model = tf.keras.models.Sequential([\n",
        "    tf.keras.layers.Embedding(input_dim=100, output_dim=16, input_length=X_train.shape[1]),\n",
        "    tf.keras.layers.LSTM(64),\n",
        "    tf.keras.layers.Dense(1, activation='sigmoid')\n",
        "])"
      ]
    },
    {
      "cell_type": "code",
      "execution_count": null,
      "metadata": {
        "id": "06zg5HpHbZVV"
      },
      "outputs": [],
      "source": [
        "\n",
        "# Compile and train the models\n",
        "mlp_model.compile(optimizer='adam', loss='binary_crossentropy', metrics=['accuracy'])\n",
        "rnn_model.compile(optimizer='adam', loss='binary_crossentropy', metrics=['accuracy'])\n",
        "mlp_model.fit(X_train, y_train, epochs=10, batch_size=32, validation_data=(X_test, y_test))\n",
        "rnn_model.fit(X_train, y_train, epochs=10, batch_size=32, validation_data=(X_test, y_test))\n"
      ]
    },
    {
      "cell_type": "code",
      "execution_count": null,
      "metadata": {
        "id": "6sucbOlsbtYz"
      },
      "outputs": [],
      "source": [
        "# Evaluate the models\n",
        "mlp_predictions = mlp_model.predict(X_test)\n",
        "cnn_predictions = cnn_model.predict(X_test)\n",
        "rnn_predictions = rnn_model.predict(X_test)\n",
        "lstm_predictions = lstm_model.predict(X_test)\n",
        "\n",
        "mlp_probs = mlp_predictions.flatten()\n",
        "cnn_probs = cnn_predictions.flatten()\n",
        "rnn_probs = rnn_predictions.flatten()\n",
        "lstm_probs = lstm_predictions.flatten()\n",
        "\n",
        "mlp_pred_labels = np.round(mlp_probs)\n",
        "cnn_pred_labels = np.round(cnn_probs)\n",
        "rnn_pred_labels = np.round(rnn_probs)\n",
        "lstm_pred_labels = np.round(lstm_probs)\n",
        "\n",
        "mlp_accuracy = accuracy_score(y_test, mlp_pred_labels)\n",
        "cnn_accuracy = accuracy_score(y_test, cnn_pred_labels)\n",
        "rnn_accuracy = accuracy_score(y_test, rnn_pred_labels)\n",
        "lstm_accuracy = accuracy_score(y_test, lstm_pred_labels)\n",
        "\n",
        "mlp_precision = precision_score(y_test, mlp_pred_labels)\n",
        "cnn_precision = precision_score(y_test, cnn_pred_labels)\n",
        "rnn_precision = precision_score(y_test, rnn_pred_labels)\n",
        "lstm_precision = precision_score(y_test, lstm_pred_labels)\n",
        "\n",
        "mlp_recall = recall_score(y_test, mlp_pred_labels)\n",
        "cnn_recall = recall_score(y_test, cnn_pred_labels)\n",
        "rnn_recall = recall_score(y_test, rnn_pred_labels)\n",
        "lstm_recall = recall_score(y_test, lstm_pred_labels)\n",
        "\n",
        "mlp_f1_score = f1_score(y_test, mlp_pred_labels)\n",
        "cnn_f1_score = f1_score(y_test, cnn_pred_labels)\n",
        "rnn_f1_score = f1_score(y_test, rnn_pred_labels)\n",
        "lstm_f1_score = f1_score(y_test, lstm_pred_labels)\n",
        "\n",
        "mlp_roc_auc = roc_auc_score(y_test, mlp_probs)\n",
        "cnn_roc_auc = roc_auc_score(y_test, cnn_probs)\n",
        "rnn_roc_auc = roc_auc_score(y_test, rnn_probs)\n",
        "lstm_roc_auc = roc_auc_score(y_test, lstm_probs)\n",
        "\n",
        "# Compare the results\n",
        "models = ['MLP', 'CNN', 'RNN', 'LSTM']\n",
        "accuracies = [mlp_accuracy, cnn_accuracy, rnn_accuracy, lstm_accuracy]\n",
        "precisions = [mlp_precision, cnn_precision, rnn_precision, lstm_precision]\n",
        "recalls = [mlp_recall, cnn_recall, rnn_recall, lstm_recall]\n",
        "f1_scores = [mlp_f1_score, cnn_f1_score, rnn_f1_score, lstm_f1_score]\n",
        "roc_aucs = [mlp_roc_auc, cnn_roc_auc, rnn_roc_auc, lstm_roc_auc]\n",
        "\n",
        "results_df = pd.DataFrame({'Model': models, 'Accuracy': accuracies, 'Precision': precisions,\n",
        "                           'Recall': recalls, 'F1-Score': f1_scores, 'ROC AUC': roc_aucs})\n",
        "print(results_df)"
      ]
    }
  ],
  "metadata": {
    "colab": {
      "provenance": [],
      "authorship_tag": "ABX9TyO35V22B9VZ2/8nk8oMTP9O",
      "include_colab_link": true
    },
    "kernelspec": {
      "display_name": "Python 3",
      "name": "python3"
    },
    "language_info": {
      "name": "python"
    }
  },
  "nbformat": 4,
  "nbformat_minor": 0
}